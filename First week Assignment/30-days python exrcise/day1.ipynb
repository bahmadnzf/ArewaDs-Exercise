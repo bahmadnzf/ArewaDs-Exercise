{
 "cells": [
  {
   "cell_type": "markdown",
   "metadata": {},
   "source": [
    "1. Check the python version you are using"
   ]
  },
  {
   "cell_type": "code",
   "execution_count": 1,
   "metadata": {},
   "outputs": [
    {
     "name": "stdout",
     "output_type": "stream",
     "text": [
      "Python 3.13.0\n"
     ]
    }
   ],
   "source": [
    "!python --version"
   ]
  },
  {
   "cell_type": "markdown",
   "metadata": {},
   "source": [
    "2.Open the python interactive shell and do the following operations. The operands are 3 and 4.\n",
    "addition(+)\n",
    "subtraction(-)\n",
    "multiplication(*)\n",
    "modulus(%)\n",
    "division(/)\n",
    "exponential()\n",
    "floor division operator(//)"
   ]
  },
  {
   "cell_type": "code",
   "execution_count": 2,
   "metadata": {},
   "outputs": [
    {
     "data": {
      "text/plain": [
       "0"
      ]
     },
     "execution_count": 2,
     "metadata": {},
     "output_type": "execute_result"
    }
   ],
   "source": [
    "3+4\n",
    "3-4\n",
    "3*4\n",
    "3%4\n",
    "3/4\n",
    "3**4\n",
    "3//4"
   ]
  },
  {
   "cell_type": "markdown",
   "metadata": {},
   "source": [
    "3. Write strings on the python interactive shell. The strings are the following:\n",
    "Your name\n",
    "Your family name\n",
    "Your country\n",
    "I am enjoying 30 days of python"
   ]
  },
  {
   "cell_type": "code",
   "execution_count": 3,
   "metadata": {},
   "outputs": [
    {
     "name": "stdout",
     "output_type": "stream",
     "text": [
      "I am Muhammad Nazif Ahmad from Gimba A. B. Family in Nigeria I am enjoying 30 days of python\n"
     ]
    }
   ],
   "source": [
    "name= \"Muhammad Nazif Ahmad\"\n",
    "family_name= \"Gimba A. B.\"\n",
    "country = 'Nigeria'\n",
    "print(f\"I am {name} from {family_name} Family in {country} I am enjoying 30 days of python\") "
   ]
  },
  {
   "cell_type": "markdown",
   "metadata": {},
   "source": []
  }
 ],
 "metadata": {
  "kernelspec": {
   "display_name": "Python 3",
   "language": "python",
   "name": "python3"
  },
  "language_info": {
   "codemirror_mode": {
    "name": "ipython",
    "version": 3
   },
   "file_extension": ".py",
   "mimetype": "text/x-python",
   "name": "python",
   "nbconvert_exporter": "python",
   "pygments_lexer": "ipython3",
   "version": "3.13.0"
  }
 },
 "nbformat": 4,
 "nbformat_minor": 2
}
