{
 "cells": [
  {
   "cell_type": "markdown",
   "metadata": {},
   "source": [
    "MODULE 7 EXERCISE LEVEL 1\n",
    "1. Get user input using input(“Enter your age: ”). If user is 18 or older, give feedback: You are old enough to drive. If below 18 give feedback to wait for the missing amount of years. "
   ]
  },
  {
   "cell_type": "code",
   "execution_count": 4,
   "metadata": {},
   "outputs": [
    {
     "name": "stdout",
     "output_type": "stream",
     "text": [
      "Please wait for the 16 years missing amount of years before you can drive\n"
     ]
    }
   ],
   "source": [
    "age =  int(input(\"Enter your age: \"))\n",
    "if age >= 18:\n",
    "    print(\"You are old enough to drive\")\n",
    "else: \n",
    "    print(f\"Please wait for the {18-age} years missing amount of years before you can drive\")"
   ]
  },
  {
   "cell_type": "markdown",
   "metadata": {},
   "source": [
    "2. Compare the values of my_age and your_age using if … else. Who is older (me or you)? Use input(“Enter your age: ”) to get the age as input. You can use a nested condition to print 'year' for 1 year difference in age, 'years' for bigger differences, and a custom text if my_age "
   ]
  },
  {
   "cell_type": "code",
   "execution_count": 7,
   "metadata": {},
   "outputs": [
    {
     "name": "stdout",
     "output_type": "stream",
     "text": [
      "Ohh God, You are 2years/year younger than me! \n",
      "This is our age difference, please respect the differences\n"
     ]
    }
   ],
   "source": [
    "age_me=int(input(\"Enter your age: \"))\n",
    "age_you=int(input('Enter your age: '))\n",
    "if age_me > age_you:\n",
    "    print(f\"Ohh God, You are {age_me-age_you}years/year younger than me! \")\n",
    "elif age_me < age_you: \n",
    "    print(f\"Senior, you are {age_you-age_me}years/year older than me! \")\n",
    "elif age_me==age_you: \n",
    "    print(f'Hey buddie, we are age mates!')\n",
    "else:\n",
    "    print('Invalid input try again')\n",
    "print('This is our age difference, please respect the differences')"
   ]
  },
  {
   "cell_type": "markdown",
   "metadata": {},
   "source": [
    "3. Get two numbers from the user using input prompt. If a is greater than b return a is greater than b, if a is less b return a is smaller than b, else a is equal to b."
   ]
  },
  {
   "cell_type": "code",
   "execution_count": 12,
   "metadata": {},
   "outputs": [
    {
     "name": "stdout",
     "output_type": "stream",
     "text": [
      "A is greater than B\n"
     ]
    }
   ],
   "source": [
    "a=int(input('Enter the first number'))\n",
    "b=int(input('Enter the second number'))\n",
    "if a>b:\n",
    "    print(\"A is greater than B\")\n",
    "elif a<b:\n",
    "    print('B is greater than B')\n",
    "elif a==b:\n",
    "    print('A is equals to B')\n",
    "else:\n",
    "    print('Invalid')\n"
   ]
  },
  {
   "cell_type": "markdown",
   "metadata": {},
   "source": [
    "LEVEL 2 EXERCISE\n",
    "1. Write a code which gives grade to students according to theirs scores:"
   ]
  },
  {
   "cell_type": "code",
   "execution_count": 32,
   "metadata": {},
   "outputs": [
    {
     "name": "stdout",
     "output_type": "stream",
     "text": [
      "Your score of 96 is A\n"
     ]
    }
   ],
   "source": [
    "score=int(input('Enter your score '))\n",
    "if  80 <=  score <= 100:\n",
    "    print(f'Your score of {score} is A')\n",
    "elif 70 <= score < 80: \n",
    "    print(f'Your score of {score} is B')\n",
    "elif  60 <=  score <70:\n",
    "    print(f'Your score of {score} is C')\n",
    "elif 50 <= score <60:\n",
    "    print(f'Your score of {score}is D')\n",
    "elif 0 <= score <50:\n",
    "    print(f'Your score of {score} is F')"
   ]
  },
  {
   "cell_type": "markdown",
   "metadata": {},
   "source": [
    "2. Check if the season is Autumn, Winter, Spring or Summer. If the user input is: September, October or November, the season is Autumn. December, January or February, the season is Winter. March, April or May, the season is Spring June, July or August, the season is Summer"
   ]
  },
  {
   "cell_type": "code",
   "execution_count": 38,
   "metadata": {},
   "outputs": [
    {
     "name": "stdout",
     "output_type": "stream",
     "text": [
      "The month is in winter\n"
     ]
    }
   ],
   "source": [
    "month=(input(\"Enter the month you want to know its season \")).title()\n",
    "season= {\n",
    "    'autum' :['September', 'October', 'November'],\n",
    "    'winter' : ['December', 'January', 'February'],\n",
    "    'spring' : ['March','April', 'May'],\n",
    "    'summer': ['June', 'July', 'August']\n",
    "    }\n",
    "if month in season['autum']:\n",
    "    print('The month is in autum')\n",
    "elif month in season['winter']:\n",
    "    print('The month is in winter')\n",
    "elif month in season['spring']:\n",
    "    print('THe month is in spring')\n",
    "elif month in season['summer']:\n",
    "    print('The month is in summer')\n",
    "else:\n",
    "    print('Invalid input')\n"
   ]
  },
  {
   "cell_type": "markdown",
   "metadata": {},
   "source": [
    "2.```sh\n",
    "fruits = ['banana', 'orange', 'mango', 'lemon']\n",
    "```\n",
    "\n",
    "If a fruit doesn't exist in the list add the fruit to the list and print the modified list. If the fruit exists print('That fruit already exist in the list') "
   ]
  },
  {
   "cell_type": "code",
   "execution_count": 44,
   "metadata": {},
   "outputs": [
    {
     "name": "stdout",
     "output_type": "stream",
     "text": [
      "Modified list: ['banana', 'orange', 'mango', 'lemon', 'Gwanda']\n"
     ]
    }
   ],
   "source": [
    "fruits = ['banana', 'orange', 'mango', 'lemon']  \n",
    "new_fruit=input(\"Enter Fruits\") \n",
    "if new_fruit in fruits:  \n",
    "    print('That fruit already exists in the list.')  \n",
    "else:  \n",
    "    fruits.append(new_fruit)  \n",
    "print('Modified list:', fruits)  \n"
   ]
  },
  {
   "cell_type": "markdown",
   "metadata": {},
   "source": [
    "3. \n",
    "i)Check if the person dictionary has skills key, if so print out the middle skill in the skills list.\n",
    "II) Check if the person dictionary has skills key, if so check if the person has 'Python' skill and print out the result.\n",
    " III)If a person skills has only JavaScript and React, print('He is a front end developer'), if the person skills has Node, Python, MongoDB, print('He is a backend developer'), if the person skills has React, Node and MongoDB, Print('He is a fullstack developer'), else print('unknown title') - for more accurate results more conditions can be nested!\n",
    "person={\n",
    "    'first_name': 'Asabeneh',\n",
    "    'last_name': 'Yetayeh',\n",
    "    'age': 250,\n",
    "    'country': 'Finland',\n",
    "    'is_marred': True,\n",
    "    'skills': ['JavaScript', 'React', 'Node', 'MongoDB', 'Python'],\n",
    "    'address': {\n",
    "        'street': 'Space street',\n",
    "        'zipcode': '02210'\n",
    "    }\n",
    "    }"
   ]
  },
  {
   "cell_type": "code",
   "execution_count": null,
   "metadata": {},
   "outputs": [
    {
     "name": "stdout",
     "output_type": "stream",
     "text": [
      "Middle skill: Node\n",
      "The person has Python skill\n",
      "unknown title\n"
     ]
    }
   ],
   "source": [
    "person={\n",
    "    'first_name': 'Asabeneh',\n",
    "    'last_name': 'Yetayeh',\n",
    "    'age': 250,\n",
    "    'country': 'Finland',\n",
    "    'is_marred': True,\n",
    "    'skills': ['JavaScript', 'React', 'Node', 'MongoDB', 'Python'],\n",
    "    'address': {\n",
    "        'street': 'Space street',\n",
    "        'zipcode': '02210'\n",
    "}\n",
    "}\n",
    "#Check if the person dictionary has skills key and print the middle skill  \n",
    "if 'skills' in person:  \n",
    "    skills = person['skills']  \n",
    "    middle_index = len(skills) // 2  \n",
    "    middle_skill = skills[middle_index]   \n",
    "    print(f'Middle skill: {middle_skill}')  \n",
    "\n",
    "#Check for 'Python' skill  \n",
    "if 'skills' in person:  \n",
    "    if 'Python' in person['skills']:  \n",
    "        print('The person has Python skill')  \n",
    "    else:  \n",
    "        print('The person does not have Python skill')  \n",
    "\n",
    "#Determine job title based on skills  \n",
    "if 'skills' in person:  \n",
    "    skills = set(person['skills'])   \n",
    "    \n",
    "    if skills == {'JavaScript', 'React'}:  \n",
    "        print('He is a front end developer')  \n",
    "    elif skills == {'Node', 'Python', 'MongoDB'}:  \n",
    "        print('He is a backend developer')  \n",
    "    elif skills == {'React', 'Node', 'MongoDB'}:  \n",
    "        print('He is a fullstack developer')  \n",
    "    else:  \n",
    "        print('unknown title')"
   ]
  }
 ],
 "metadata": {
  "kernelspec": {
   "display_name": "Python 3",
   "language": "python",
   "name": "python3"
  },
  "language_info": {
   "codemirror_mode": {
    "name": "ipython",
    "version": 3
   },
   "file_extension": ".py",
   "mimetype": "text/x-python",
   "name": "python",
   "nbconvert_exporter": "python",
   "pygments_lexer": "ipython3",
   "version": "3.13.0"
  }
 },
 "nbformat": 4,
 "nbformat_minor": 2
}
