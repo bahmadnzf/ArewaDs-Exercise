{
 "cells": [
  {
   "cell_type": "markdown",
   "metadata": {},
   "source": [
    "Module 3 Exercise  \n",
    "1.Declare your age as integer variable\n"
   ]
  },
  {
   "cell_type": "code",
   "execution_count": 1,
   "metadata": {},
   "outputs": [],
   "source": [
    "age = 34 "
   ]
  },
  {
   "cell_type": "markdown",
   "metadata": {},
   "source": [
    "2. Declare your height as a float variable"
   ]
  },
  {
   "cell_type": "code",
   "execution_count": 2,
   "metadata": {},
   "outputs": [],
   "source": [
    "height = 77.2"
   ]
  },
  {
   "cell_type": "markdown",
   "metadata": {},
   "source": [
    "3.Declare a variable that store a complex number"
   ]
  },
  {
   "cell_type": "code",
   "execution_count": 3,
   "metadata": {},
   "outputs": [],
   "source": [
    "complex_num  = 3-4j"
   ]
  },
  {
   "cell_type": "markdown",
   "metadata": {},
   "source": [
    "4. Write a script that prompts the user to enter base and height of the triangle and calculate an area of this triangle (area = 0.5 x b x h).\n"
   ]
  },
  {
   "cell_type": "code",
   "execution_count": 4,
   "metadata": {},
   "outputs": [
    {
     "name": "stdout",
     "output_type": "stream",
     "text": [
      "The area is:  6.0 \n"
     ]
    }
   ],
   "source": [
    "h = int(input(\"Please Enter the height: \"))\n",
    "b = int(input(\"Please Enter the base: \"))\n",
    "area= 0.5*h*b\n",
    "print(f\"The area is:  {area} \")"
   ]
  },
  {
   "cell_type": "markdown",
   "metadata": {},
   "source": [
    "5. Write a script that prompts the user to enter side a, side b, and side c of the triangle. Calculate the perimeter of the triangle (perimeter = a + b + c).\n"
   ]
  },
  {
   "cell_type": "code",
   "execution_count": 8,
   "metadata": {},
   "outputs": [
    {
     "name": "stdout",
     "output_type": "stream",
     "text": [
      "The perimeter of the triangle is: 12\n"
     ]
    }
   ],
   "source": [
    "\n",
    "a=int(input(\"Enter side A of the triangle: \"))\n",
    "b=int(input(\"Enter Side B of the triangle:\"))\n",
    "c=int(input(\"Enter Side C of the triangle: \"))\n",
    "#Using formular to calculate the perimeter of the triangle \n",
    "p=a+b+c\n",
    "print(f\"The perimeter of the triangle is: {p}\")\n"
   ]
  },
  {
   "cell_type": "markdown",
   "metadata": {},
   "source": [
    "6.The perimeter of the triangle is 12\n",
    "Get length and width of a rectangle using prompt. Calculate its area (area = length x width) and perimeter (perimeter = 2 x (length + width))\n"
   ]
  },
  {
   "cell_type": "code",
   "execution_count": 10,
   "metadata": {},
   "outputs": [
    {
     "name": "stdout",
     "output_type": "stream",
     "text": [
      "The area of the triangle is: 12\n",
      "The perimeter of the triangle is: 14\n"
     ]
    }
   ],
   "source": [
    "length = int(input(\"Enter the length: \"))\n",
    "width = int(input(\"Enter the width of the triangle: \"))\n",
    "#calculating the area of the triangle using formular\n",
    "area = length * width\n",
    "print(f\"The area of the triangle is: {area}\")\n",
    "#calculating the perimeter of the triangle using length \n",
    "perimeter = (2 * (length + width))\n",
    "print(f\"The perimeter of the triangle is: {perimeter}\")"
   ]
  },
  {
   "cell_type": "markdown",
   "metadata": {},
   "source": [
    "7.Get radius of a circle using prompt. Calculate the area (area = pi x r x r) and circumference (c = 2 x pi x r) where pi = 3.14.\n"
   ]
  },
  {
   "cell_type": "code",
   "execution_count": 12,
   "metadata": {},
   "outputs": [
    {
     "name": "stdout",
     "output_type": "stream",
     "text": [
      "The area is : 50.24\n",
      "The circumference is: 25.12\n"
     ]
    }
   ],
   "source": [
    "#taking radius from a user\n",
    "r = int(input(\"Enter Radius: \"))\n",
    "pi = 3.14\n",
    "#calculating area \n",
    "area = pi*r*r\n",
    "#calculating the circumference using formular\n",
    "c=2*pi*r\n",
    "print(f\"The area is : {area}\")\n",
    "print(f\"The circumference is: {c}\")"
   ]
  },
  {
   "cell_type": "markdown",
   "metadata": {},
   "source": [
    "8. Calculate the slope, x-intercept and y-intercept of y = 2x -2\n",
    "Slope is (m = y2-y1/x2-x1). \n",
    "\n"
   ]
  },
  {
   "cell_type": "code",
   "execution_count": null,
   "metadata": {},
   "outputs": [
    {
     "name": "stdout",
     "output_type": "stream",
     "text": [
      "The Y-intercept is:2\n",
      "The Y-intercept is:2.0\n",
      "The Slope is:-1.0\n"
     ]
    }
   ],
   "source": [
    "x=int(input(\"Enter the valur of X\"))\n",
    "x1=int(input(\"Enter the valur of X1\"))\n",
    "x2=int(input(\"Enter the value of X2\"))\n",
    "y1=int(input(\"Enter the valur of Y1\"))\n",
    "y2=int(input(\"Enter the value of Y2\"))\n",
    "#Calculating the value of y-intercept using the value of the of x inputted \n",
    "y = ((2*x)-2)\n",
    "print(f\"The Y-intercept is:{y}\")\n",
    "#Calculating the value of x-intercept using \n",
    "x=((y+2)/2)\n",
    "print(f\"The Y-intercept is:{x}\")\n",
    "#Calculating the Slope\n",
    "m=((y2-y1)/(x2-x1))\n",
    "print(f\"The Slope is:{m}\")"
   ]
  },
  {
   "cell_type": "markdown",
   "metadata": {},
   "source": [
    "9. Find the slope and Euclidean distance between point (2, 2) and point (6,10)\n",
    "Compare the slopes in tasks 8 and 9."
   ]
  },
  {
   "cell_type": "code",
   "execution_count": 15,
   "metadata": {},
   "outputs": [
    {
     "name": "stdout",
     "output_type": "stream",
     "text": [
      "The Slope is:2.0\n",
      "The Euclidean Distance is: 3.4641016151377544\n"
     ]
    }
   ],
   "source": [
    "import math\n",
    "x1,y1,x2,y2=2,2,6,10\n",
    "#Calculating Slope using\n",
    "m=((y2-y1)/(x2-x1))\n",
    "print(f\"The Slope is:{m}\")\n",
    "#calculating the Euclidean distance\n",
    "euclidean_distance=math.sqrt((x2-x1)+(y2-y1))\n",
    "print(f\"The Euclidean Distance is: {euclidean_distance}\")"
   ]
  },
  {
   "cell_type": "markdown",
   "metadata": {},
   "source": [
    "10. Calculate the value of y (y = x^2 + 6x + 9). Try to use different x values and figure out at what x value y is going to be 0.\n"
   ]
  },
  {
   "cell_type": "code",
   "execution_count": 16,
   "metadata": {},
   "outputs": [
    {
     "name": "stdout",
     "output_type": "stream",
     "text": [
      "36\n"
     ]
    }
   ],
   "source": [
    "x=int(input(\"Enter the VAlue of X to calculate the value of Y: \"))\n",
    "y = x**2 + 6*x + 9\n",
    "print(y)"
   ]
  },
  {
   "cell_type": "markdown",
   "metadata": {},
   "source": [
    "11. Find the length of 'python' and 'dragon' and make a falsy comparison statement.\n",
    "Use and operator to check if 'on' is found in both 'python' and 'dragon'\n"
   ]
  },
  {
   "cell_type": "code",
   "execution_count": 19,
   "metadata": {},
   "outputs": [
    {
     "name": "stdout",
     "output_type": "stream",
     "text": [
      "6\n",
      "6\n",
      "True\n"
     ]
    }
   ],
   "source": [
    "print(len(\"python\"))\n",
    "print(len(\"dragon\"))\n",
    "false_comparison = len(\"python\") != len(\"dragon\") \n",
    "if \"on\" in \"python\" and \"dragon\":\n",
    "    print(True)\n",
    "else: \n",
    "    print(False)\n",
    "     \n"
   ]
  },
  {
   "cell_type": "markdown",
   "metadata": {},
   "source": [
    "12. \"I hope this course is not full of jargon\". Use in operator to check if jargon is in the sentence.\n",
    "There is no 'on' in both dragon and python \n"
   ]
  },
  {
   "cell_type": "code",
   "execution_count": 20,
   "metadata": {},
   "outputs": [
    {
     "name": "stdout",
     "output_type": "stream",
     "text": [
      "True\n"
     ]
    }
   ],
   "source": [
    "a = \"I hope this course is not full of jargon\"\n",
    "if \"jargon\" in a:\n",
    "    print(True)\n",
    "else:\n",
    "    print(False)\n"
   ]
  },
  {
   "cell_type": "markdown",
   "metadata": {},
   "source": [
    "13.Find the length of the text python and convert the value to float and convert it to string\n"
   ]
  },
  {
   "cell_type": "code",
   "execution_count": 22,
   "metadata": {},
   "outputs": [],
   "source": [
    "a=float(len(\"python\"))\n",
    "b=str(len(\"a\"))\n",
    "\n"
   ]
  },
  {
   "cell_type": "markdown",
   "metadata": {},
   "source": [
    "14. Even numbers are divisible by 2 and the remainder is zero. How do you check if a number is even or not using python?\n"
   ]
  },
  {
   "cell_type": "code",
   "execution_count": 23,
   "metadata": {},
   "outputs": [
    {
     "name": "stdout",
     "output_type": "stream",
     "text": [
      "The number entered is even\n"
     ]
    }
   ],
   "source": [
    "num = int(input(\"ENter number:\"))\n",
    "if num%2==0:\n",
    "    print(\"The number entered is even\")\n",
    "else: \n",
    "    print(\"THe number entered is odd\")"
   ]
  },
  {
   "cell_type": "markdown",
   "metadata": {},
   "source": [
    "15. Check if the floor division of 7 by 3 is equal to the int converted value of 2.7.\n"
   ]
  },
  {
   "cell_type": "code",
   "execution_count": 24,
   "metadata": {},
   "outputs": [
    {
     "name": "stdout",
     "output_type": "stream",
     "text": [
      "True\n"
     ]
    }
   ],
   "source": [
    "a=7//3\n",
    "b=int(2.7)\n",
    "print(a==b)"
   ]
  },
  {
   "cell_type": "markdown",
   "metadata": {},
   "source": [
    "16.Check if type of '10' is equal to type of 10\n",
    "Check if int('9.8') is equal to 10\n"
   ]
  },
  {
   "cell_type": "code",
   "execution_count": 1,
   "metadata": {},
   "outputs": [
    {
     "data": {
      "text/plain": [
       "False"
      ]
     },
     "execution_count": 1,
     "metadata": {},
     "output_type": "execute_result"
    }
   ],
   "source": [
    "type(10)==type(\"10\")\n",
    "type(10)==type(\"10\")"
   ]
  },
  {
   "cell_type": "markdown",
   "metadata": {},
   "source": [
    "17. Writ a script that prompts the user to enter hours and rate per hour. Calculate pay of the person?"
   ]
  },
  {
   "cell_type": "code",
   "execution_count": 4,
   "metadata": {},
   "outputs": [
    {
     "name": "stdout",
     "output_type": "stream",
     "text": [
      "Your pay is: 56488\n"
     ]
    }
   ],
   "source": [
    "hours = int(input(\"Enter hours worked: \"))\n",
    "rate =int(input(\"Enter rate per hour worked: \"))\n",
    "pay = rate* hours\n",
    "print(f\"Your pay is: {pay}\")"
   ]
  },
  {
   "cell_type": "markdown",
   "metadata": {},
   "source": [
    "18. Write a script that prompts the user to enter number of years. Calculate the number of seconds a person can live. Assume a person can live hundred years"
   ]
  },
  {
   "cell_type": "code",
   "execution_count": 5,
   "metadata": {},
   "outputs": [
    {
     "name": "stdout",
     "output_type": "stream",
     "text": [
      "Number of seconds u are to live is : 307476000\n"
     ]
    }
   ],
   "source": [
    "num_years=int(input(\"Enter number of years: \"))\n",
    "num_seconds= 365*num_years*60*60\n",
    "print(f'Number of seconds u are to live is : {num_seconds}')"
   ]
  },
  {
   "cell_type": "markdown",
   "metadata": {},
   "source": [
    "19. Write a Python script that displays the following table\n",
    "1 1 1 1 1\n",
    "2 1 2 4 8\n",
    "3 1 3 9 27\n",
    "4 1 4 16 64\n",
    "5 1 5 25 125"
   ]
  },
  {
   "cell_type": "code",
   "execution_count": 1,
   "metadata": {},
   "outputs": [
    {
     "name": "stdout",
     "output_type": "stream",
     "text": [
      "\n",
      "1 1 1 1 1\n",
      "2 1 2 4 8\n",
      "3 1 3 9 27\n",
      "4 1 4 16 64\n",
      "5 1 5 25 125\n",
      "  \n"
     ]
    }
   ],
   "source": [
    "print(\n",
    "    '''\n",
    "1 1 1 1 1\n",
    "2 1 2 4 8\n",
    "3 1 3 9 27\n",
    "4 1 4 16 64\n",
    "5 1 5 25 125\n",
    "  ''')"
   ]
  }
 ],
 "metadata": {
  "kernelspec": {
   "display_name": "Python 3",
   "language": "python",
   "name": "python3"
  },
  "language_info": {
   "codemirror_mode": {
    "name": "ipython",
    "version": 3
   },
   "file_extension": ".py",
   "mimetype": "text/x-python",
   "name": "python",
   "nbconvert_exporter": "python",
   "pygments_lexer": "ipython3",
   "version": "3.13.0"
  }
 },
 "nbformat": 4,
 "nbformat_minor": 2
}
