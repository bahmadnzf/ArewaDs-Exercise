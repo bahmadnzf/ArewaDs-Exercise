{
 "cells": [
  {
   "cell_type": "markdown",
   "metadata": {},
   "source": [
    "EXERCISE ON CLASSES AND OBJECT MODULE"
   ]
  },
  {
   "cell_type": "markdown",
   "metadata": {},
   "source": [
    "1. Python has the module called statistics and we can use this module to do all the statistical calculations. However, to learn how to make function and reuse function let us try to develop a program, which calculates the measure of central tendency of a sample (mean, median, mode) and measure of variability (range, variance, standard deviation). In addition to those measures, find the min, max, count, percentile, and frequency distribution of the sample. You can create a class called Statistics and create all the functions that do statistical calculations as methods for the Statistics class. Check the output below."
   ]
  },
  {
   "cell_type": "code",
   "execution_count": 1,
   "metadata": {},
   "outputs": [
    {
     "name": "stdout",
     "output_type": "stream",
     "text": [
      "Mean: 29.76\n",
      "Median: 29\n",
      "Mode: 26\n",
      "Range: 14\n",
      "Variance: 18.273333333333333\n",
      "Standard Deviation: 4.2747319604079665\n",
      "Min: 24\n",
      "Max: 38\n",
      "Count: 25\n",
      "90th Percentile: 37.0\n",
      "Frequency Distribution: {31: 2, 26: 5, 34: 2, 37: 2, 27: 4, 32: 3, 24: 2, 33: 2, 25: 1, 38: 1, 29: 1}\n"
     ]
    }
   ],
   "source": [
    "import statistics  \n",
    "from collections import Counter  \n",
    "\n",
    "class Statistics:  \n",
    "    def __init__(self, data):  \n",
    "        \"\"\"Initialize the Statistics class with a sample dataset.\"\"\"  \n",
    "        self.data = data  \n",
    "\n",
    "    def mean(self):  \n",
    "        \"\"\"Calculate and return the mean of the sample.\"\"\"  \n",
    "        return statistics.mean(self.data)  \n",
    "\n",
    "    def median(self):  \n",
    "        \"\"\"Calculate and return the median of the sample.\"\"\"  \n",
    "        return statistics.median(self.data)  \n",
    "\n",
    "    def mode(self):  \n",
    "        \"\"\"Calculate and return the mode of the sample.\"\"\"  \n",
    "        return statistics.mode(self.data)  \n",
    "\n",
    "    def data_range(self):  \n",
    "        \"\"\"Calculate and return the range of the sample.\"\"\"  \n",
    "        return max(self.data) - min(self.data)  \n",
    "\n",
    "    def variance(self):  \n",
    "        \"\"\"Calculate and return the variance of the sample.\"\"\"  \n",
    "        return statistics.variance(self.data)  \n",
    "\n",
    "    def standard_deviation(self):  \n",
    "        \"\"\"Calculate and return the standard deviation of the sample.\"\"\"  \n",
    "        return statistics.stdev(self.data)  \n",
    "\n",
    "    def data_min(self):  \n",
    "        \"\"\"Return the minimum value of the sample.\"\"\"  \n",
    "        return min(self.data)  \n",
    "\n",
    "    def data_max(self):  \n",
    "        \"\"\"Return the maximum value of the sample.\"\"\"  \n",
    "        return max(self.data)  \n",
    "\n",
    "    def count(self):  \n",
    "        \"\"\"Return the count of the sample.\"\"\"  \n",
    "        return len(self.data)  \n",
    "\n",
    "    def percentile(self, percentile):  \n",
    "        \"\"\"Calculate and return the percentile of the sample.\"\"\"  \n",
    "        return statistics.quantiles(self.data, n=100)[percentile - 1]  \n",
    "\n",
    "    def frequency_distribution(self):  \n",
    "        \"\"\"Return the frequency distribution of the sample.\"\"\"  \n",
    "        return dict(Counter(self.data))  \n",
    "\n",
    "# Example Usage  \n",
    "if __name__ == \"__main__\":  \n",
    "    ages = [31, 26, 34, 37, 27, 26, 32, 32, 26, 27, 27, 24, 32, 33, 27, 25, 26, 38, 37, 31, 34, 24, 33, 29, 26]  \n",
    "\n",
    "    # Create an instance of the Statistics class  \n",
    "    stats = Statistics(ages)  \n",
    "    \n",
    "    print(f\"Mean: {stats.mean()}\")  \n",
    "    print(f\"Median: {stats.median()}\")  \n",
    "    print(f\"Mode: {stats.mode()}\")  \n",
    "    print(f\"Range: {stats.data_range()}\")  \n",
    "    print(f\"Variance: {stats.variance()}\")  \n",
    "    print(f\"Standard Deviation: {stats.standard_deviation()}\")  \n",
    "    print(f\"Min: {stats.data_min()}\")  \n",
    "    print(f\"Max: {stats.data_max()}\")  \n",
    "    print(f\"Count: {stats.count()}\")  \n",
    "\n",
    "    percentile_rank = 90  # Example: Obtain the 90th percentile  \n",
    "    print(f\"{percentile_rank}th Percentile: {stats.percentile(percentile_rank)}\")  \n",
    "    \n",
    "    print(f\"Frequency Distribution: {stats.frequency_distribution()}\")"
   ]
  },
  {
   "cell_type": "markdown",
   "metadata": {},
   "source": [
    "2. Create a class called PersonAccount. It has firstname, lastname, incomes, expenses properties and it has total_income, total_expense, account_info, add_income, add_expense and account_balance methods. Incomes is a set of incomes and its description. The same goes for expenses."
   ]
  },
  {
   "cell_type": "code",
   "execution_count": 2,
   "metadata": {},
   "outputs": [
    {
     "name": "stdout",
     "output_type": "stream",
     "text": [
      "{'Name': 'John Doe', 'Total Income': 1700, 'Total Expense': 550, 'Account Balance': 1150, 'Incomes': {'Salary': 1500, 'Freelance Work': 200}, 'Expenses': {'Rent': 500, 'Groceries': 50}}\n"
     ]
    }
   ],
   "source": [
    "class PersonAccount:  \n",
    "    def __init__(self, first_name, last_name):  \n",
    "        \"\"\"Initialize the PersonAccount with a first name and last name.\"\"\"  \n",
    "        self.first_name = first_name  \n",
    "        self.last_name = last_name  \n",
    "        self.incomes = {}  # Dictionary to hold incomes and their descriptions  \n",
    "        self.expenses = {}  # Dictionary to hold expenses and their descriptions  \n",
    "\n",
    "    def add_income(self, amount, description):  \n",
    "        \"\"\"Add an income entry.\"\"\"  \n",
    "        self.incomes[description] = amount  \n",
    "\n",
    "    def add_expense(self, amount, description):  \n",
    "        \"\"\"Add an expense entry.\"\"\"  \n",
    "        self.expenses[description] = amount  \n",
    "\n",
    "    def total_income(self):  \n",
    "        \"\"\"Calculate and return the total income.\"\"\"  \n",
    "        return sum(self.incomes.values())  \n",
    "\n",
    "    def total_expense(self):  \n",
    "        \"\"\"Calculate and return the total expenses.\"\"\"  \n",
    "        return sum(self.expenses.values())  \n",
    "\n",
    "    def account_balance(self):  \n",
    "        \"\"\"Calculate and return the account balance (total income - total expenses).\"\"\"  \n",
    "        return self.total_income() - self.total_expense()  \n",
    "\n",
    "    def account_info(self):  \n",
    "        \"\"\"Return a summary of the account information.\"\"\"  \n",
    "        return {  \n",
    "            \"Name\": f\"{self.first_name} {self.last_name}\",  \n",
    "            \"Total Income\": self.total_income(),  \n",
    "            \"Total Expense\": self.total_expense(),  \n",
    "            \"Account Balance\": self.account_balance(),  \n",
    "            \"Incomes\": self.incomes,  \n",
    "            \"Expenses\": self.expenses,  \n",
    "        }  \n",
    "\n",
    "# Example Usage  \n",
    "if __name__ == \"__main__\":  \n",
    "    # Creating an instance of PersonAccount  \n",
    "    account = PersonAccount(\"John\", \"Doe\")  \n",
    "\n",
    "    # Adding incomes  \n",
    "    account.add_income(1500, \"Salary\")  \n",
    "    account.add_income(200, \"Freelance Work\")  \n",
    "\n",
    "    # Adding expenses  \n",
    "    account.add_expense(500, \"Rent\")  \n",
    "    account.add_expense(50, \"Groceries\")  \n",
    "\n",
    "    # Printing account information  \n",
    "    print(account.account_info())"
   ]
  }
 ],
 "metadata": {
  "kernelspec": {
   "display_name": "Python 3",
   "language": "python",
   "name": "python3"
  },
  "language_info": {
   "codemirror_mode": {
    "name": "ipython",
    "version": 3
   },
   "file_extension": ".py",
   "mimetype": "text/x-python",
   "name": "python",
   "nbconvert_exporter": "python",
   "pygments_lexer": "ipython3",
   "version": "undefined.undefined.undefined"
  }
 },
 "nbformat": 4,
 "nbformat_minor": 2
}
