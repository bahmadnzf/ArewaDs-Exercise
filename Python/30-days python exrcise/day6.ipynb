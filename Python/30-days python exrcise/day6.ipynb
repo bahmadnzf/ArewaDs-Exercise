{
 "cells": [
  {
   "cell_type": "markdown",
   "metadata": {},
   "source": [
    "MODULE 6 EXERCISE\n",
    "1.Create an empty dictionary called dog Add name, color, breed, legs, age to the dog dictionary\n",
    "\n"
   ]
  },
  {
   "cell_type": "code",
   "execution_count": null,
   "metadata": {},
   "outputs": [],
   "source": [
    "dog = {\n",
    "    'name': 'Boo Boo',\n",
    "    'color': 'Blue-Black',\n",
    "    'Breed': 'Police Dog',\n",
    "    'Legs': 'V-leg',\n",
    "    'age': '8 Years'\n",
    "}"
   ]
  },
  {
   "cell_type": "markdown",
   "metadata": {},
   "source": [
    "2.Create a student dictionary and add first_name, last_name, gender, age, marital status, skills, country, city and address as keys for the dictionary\n"
   ]
  },
  {
   "cell_type": "code",
   "execution_count": 40,
   "metadata": {},
   "outputs": [],
   "source": [
    "student = {\n",
    "    'first_name': 'Muhammad',\n",
    "    ' last_name': 'Ahmad',\n",
    "    'Gender':'Yet to Decide',\n",
    "    'age':'23',\n",
    "    'Marital_Status': 'Married',\n",
    "    'skills':['Tech Expert','Project Manager'],\n",
    "    'Country': 'Jupyter',\n",
    "    'city':'Azare',\n",
    "    'Address': 'Off Al-jannah Road , Heaven'\n",
    "}"
   ]
  },
  {
   "cell_type": "markdown",
   "metadata": {},
   "source": [
    "3. Get the length of the student dictionary\n"
   ]
  },
  {
   "cell_type": "code",
   "execution_count": 9,
   "metadata": {},
   "outputs": [
    {
     "name": "stdout",
     "output_type": "stream",
     "text": [
      "9\n"
     ]
    }
   ],
   "source": [
    "\n",
    "print(len(student))"
   ]
  },
  {
   "cell_type": "markdown",
   "metadata": {},
   "source": [
    "4. Get the value of skills and check the data type, it should be a list\n"
   ]
  },
  {
   "cell_type": "code",
   "execution_count": 15,
   "metadata": {},
   "outputs": [
    {
     "name": "stdout",
     "output_type": "stream",
     "text": [
      "<class 'list'>\n"
     ]
    }
   ],
   "source": [
    "dct=(student['skills'])\n",
    "print(type(dct))"
   ]
  },
  {
   "cell_type": "markdown",
   "metadata": {},
   "source": [
    "5. Modify the skills values by adding one or two skills\n"
   ]
  },
  {
   "cell_type": "code",
   "execution_count": 19,
   "metadata": {},
   "outputs": [
    {
     "name": "stdout",
     "output_type": "stream",
     "text": [
      "{'first_name': 'Muhammad', ' last_name': 'Ahmad', 'Gender': 'Yet to Decide', 'age': '23', 'Marital_Status': 'Married', 'skills': ['Tech Expert', 'Project Manager', 'Java', 'Java', 'Python', 'Java', 'Python'], 'Country': 'Jupyter', 'city': 'Azare', 'Address': 'Off Al-jannah Road , Heaven'}\n"
     ]
    }
   ],
   "source": [
    "student['skills'].append('Java')\n",
    "student['skills'].append('Python')\n",
    "print(student)"
   ]
  },
  {
   "cell_type": "markdown",
   "metadata": {},
   "source": [
    "6. Get the dictionary keys as a list\n"
   ]
  },
  {
   "cell_type": "code",
   "execution_count": 25,
   "metadata": {},
   "outputs": [
    {
     "name": "stdout",
     "output_type": "stream",
     "text": [
      "Muhammad\n"
     ]
    }
   ],
   "source": [
    "print(student[\"first_name\"])"
   ]
  },
  {
   "cell_type": "markdown",
   "metadata": {},
   "source": [
    "6. Get the dictionary keys as a list\n"
   ]
  },
  {
   "cell_type": "code",
   "execution_count": 28,
   "metadata": {},
   "outputs": [
    {
     "name": "stdout",
     "output_type": "stream",
     "text": [
      "['first_name', ' last_name', 'Gender', 'age', 'Marital_Status', 'skills', 'Country', 'city', 'Address']\n"
     ]
    }
   ],
   "source": [
    "keys_list=list(student.keys())\n",
    "print(keys_list)"
   ]
  },
  {
   "cell_type": "markdown",
   "metadata": {},
   "source": [
    "7. Get the dictionary values as a list\n",
    " "
   ]
  },
  {
   "cell_type": "markdown",
   "metadata": {},
   "source": [
    "8. Change the dictionary to a list of tuples using items() method\n"
   ]
  },
  {
   "cell_type": "code",
   "execution_count": 29,
   "metadata": {},
   "outputs": [
    {
     "name": "stdout",
     "output_type": "stream",
     "text": [
      "[('first_name', 'Muhammad'), (' last_name', 'Ahmad'), ('Gender', 'Yet to Decide'), ('age', '23'), ('Marital_Status', 'Married'), ('skills', ['Tech Expert', 'Project Manager', 'Java', 'Java', 'Python', 'Java', 'Python']), ('Country', 'Jupyter'), ('city', 'Azare'), ('Address', 'Off Al-jannah Road , Heaven')]\n"
     ]
    }
   ],
   "source": [
    "values_list=list(student.items())\n",
    "print(values_list)"
   ]
  },
  {
   "cell_type": "markdown",
   "metadata": {},
   "source": [
    "8. Delete one of the items in the dictionary\n"
   ]
  },
  {
   "cell_type": "code",
   "execution_count": 41,
   "metadata": {},
   "outputs": [
    {
     "name": "stdout",
     "output_type": "stream",
     "text": [
      "{'first_name': 'Muhammad', ' last_name': 'Ahmad', 'Gender': 'Yet to Decide', 'age': '23', 'Marital_Status': 'Married', 'skills': ['Tech Expert', 'Project Manager'], 'city': 'Azare', 'Address': 'Off Al-jannah Road , Heaven'}\n"
     ]
    }
   ],
   "source": [
    "del student['Country']\n",
    "print(student)"
   ]
  },
  {
   "cell_type": "markdown",
   "metadata": {},
   "source": [
    "9.Delete one of the dictionaries"
   ]
  },
  {
   "cell_type": "code",
   "execution_count": 38,
   "metadata": {},
   "outputs": [],
   "source": [
    "del dog"
   ]
  },
  {
   "cell_type": "code",
   "execution_count": null,
   "metadata": {},
   "outputs": [],
   "source": []
  }
 ],
 "metadata": {
  "kernelspec": {
   "display_name": "Python 3",
   "language": "python",
   "name": "python3"
  },
  "language_info": {
   "codemirror_mode": {
    "name": "ipython",
    "version": 3
   },
   "file_extension": ".py",
   "mimetype": "text/x-python",
   "name": "python",
   "nbconvert_exporter": "python",
   "pygments_lexer": "ipython3",
   "version": "3.13.0"
  }
 },
 "nbformat": 4,
 "nbformat_minor": 2
}
