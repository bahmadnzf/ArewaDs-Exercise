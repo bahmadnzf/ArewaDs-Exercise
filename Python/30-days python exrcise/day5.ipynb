{
 "cells": [
  {
   "cell_type": "markdown",
   "metadata": {},
   "source": [
    "MODULE 5 EXERCISE\n"
   ]
  },
  {
   "cell_type": "markdown",
   "metadata": {},
   "source": [
    "1. Declare an empty list\n"
   ]
  },
  {
   "cell_type": "code",
   "execution_count": 106,
   "metadata": {},
   "outputs": [],
   "source": [
    "myClass = []"
   ]
  },
  {
   "cell_type": "markdown",
   "metadata": {},
   "source": [
    "2.Declare a list with more than 5 items\n"
   ]
  },
  {
   "cell_type": "code",
   "execution_count": 107,
   "metadata": {},
   "outputs": [],
   "source": [
    "myLanguages=['French', 'Arabic', 'Hausa', 'Fulbe', 'Igbo', 'Yoruba', 'Nupe']"
   ]
  },
  {
   "cell_type": "markdown",
   "metadata": {},
   "source": [
    "3.Find the length of your list\n"
   ]
  },
  {
   "cell_type": "code",
   "execution_count": 108,
   "metadata": {},
   "outputs": [
    {
     "name": "stdout",
     "output_type": "stream",
     "text": [
      "7\n"
     ]
    }
   ],
   "source": [
    "print(len(myLanguages))"
   ]
  },
  {
   "cell_type": "markdown",
   "metadata": {},
   "source": [
    "4.Get the first item, the middle item and the last item of the list\n"
   ]
  },
  {
   "cell_type": "code",
   "execution_count": 109,
   "metadata": {},
   "outputs": [
    {
     "name": "stdout",
     "output_type": "stream",
     "text": [
      "French\n",
      "Fulbe\n",
      "Nupe\n"
     ]
    }
   ],
   "source": [
    "print(myLanguages[0])\n",
    "print(myLanguages[3])\n",
    "print(myLanguages[-1])"
   ]
  },
  {
   "cell_type": "markdown",
   "metadata": {},
   "source": [
    "5.Declare a list called mixed_data_types, put your(name, age, height, marital status, address)"
   ]
  },
  {
   "cell_type": "code",
   "execution_count": 110,
   "metadata": {},
   "outputs": [],
   "source": [
    "mixed_data_types = ['name', 'age', 'height', 'marital' ,'status', 'address']"
   ]
  },
  {
   "cell_type": "markdown",
   "metadata": {},
   "source": [
    "6.Declare a list variable named it_companies and assign initial values Facebook, Google, Microsoft, Apple, IBM, Oracle and Amazon.\n"
   ]
  },
  {
   "cell_type": "code",
   "execution_count": 111,
   "metadata": {},
   "outputs": [
    {
     "name": "stdout",
     "output_type": "stream",
     "text": [
      "['Facebook', 'Google', 'Microsoft', 'Apple', 'IBM', 'Oracle', 'Amazon']\n"
     ]
    }
   ],
   "source": [
    "it_companies = ['Facebook', 'Google', 'Microsoft', 'Apple', 'IBM', 'Oracle' ,'Amazon']\n",
    "print(it_companies)"
   ]
  },
  {
   "cell_type": "markdown",
   "metadata": {},
   "source": [
    "7. Print the list using print()\n"
   ]
  },
  {
   "cell_type": "code",
   "execution_count": 112,
   "metadata": {},
   "outputs": [
    {
     "name": "stdout",
     "output_type": "stream",
     "text": [
      "['Facebook', 'Google', 'Microsoft', 'Apple', 'IBM', 'Oracle', 'Amazon']\n"
     ]
    }
   ],
   "source": [
    "print(it_companies)"
   ]
  },
  {
   "cell_type": "markdown",
   "metadata": {},
   "source": [
    "8.Print the number of companies in the list\n"
   ]
  },
  {
   "cell_type": "code",
   "execution_count": 113,
   "metadata": {},
   "outputs": [
    {
     "name": "stdout",
     "output_type": "stream",
     "text": [
      "7\n"
     ]
    }
   ],
   "source": [
    "print(len(it_companies))"
   ]
  },
  {
   "cell_type": "markdown",
   "metadata": {},
   "source": [
    "9. Print the first, middle and last company\n"
   ]
  },
  {
   "cell_type": "code",
   "execution_count": 114,
   "metadata": {},
   "outputs": [
    {
     "name": "stdout",
     "output_type": "stream",
     "text": [
      "Facebook\n",
      "Apple\n",
      "Amazon\n"
     ]
    }
   ],
   "source": [
    "print(it_companies[0])\n",
    "print(it_companies[3])\n",
    "print(it_companies[-1])"
   ]
  },
  {
   "cell_type": "markdown",
   "metadata": {},
   "source": [
    "10.Print the list after modifying one of the companies\n"
   ]
  },
  {
   "cell_type": "code",
   "execution_count": 115,
   "metadata": {},
   "outputs": [
    {
     "name": "stdout",
     "output_type": "stream",
     "text": [
      "['meta', 'Google', 'Microsoft', 'Apple', 'IBM', 'Oracle', 'Amazon']\n"
     ]
    }
   ],
   "source": [
    "it_companies[0] = 'meta'\n",
    "print(it_companies)"
   ]
  },
  {
   "cell_type": "markdown",
   "metadata": {},
   "source": [
    "11.Add an IT company to it_companies\n"
   ]
  },
  {
   "cell_type": "code",
   "execution_count": 116,
   "metadata": {},
   "outputs": [
    {
     "name": "stdout",
     "output_type": "stream",
     "text": [
      "['meta', 'Google', 'Microsoft', 'Apple', 'IBM', 'Oracle', 'Amazon', 'Nvidia']\n"
     ]
    }
   ],
   "source": [
    "it_companies=['meta', 'Google', 'Microsoft', 'Apple', 'IBM', 'Oracle', 'Amazon']\n",
    "it_companies.append(\"Nvidia\")\n",
    "print(it_companies)"
   ]
  },
  {
   "cell_type": "markdown",
   "metadata": {},
   "source": [
    "12. Insert an IT company in the middle of the companies list\n"
   ]
  },
  {
   "cell_type": "code",
   "execution_count": 117,
   "metadata": {},
   "outputs": [
    {
     "name": "stdout",
     "output_type": "stream",
     "text": [
      "['meta', 'Google', 'Microsoft', 'Galaxy', 'Apple', 'IBM', 'Oracle', 'Amazon', 'Nvidia']\n"
     ]
    }
   ],
   "source": [
    "it_companies.insert(3, \"Galaxy\")\n",
    "print(it_companies)"
   ]
  },
  {
   "cell_type": "markdown",
   "metadata": {},
   "source": [
    "13.Change one of the it_companies names to uppercase (IBM excluded!)\n"
   ]
  },
  {
   "cell_type": "code",
   "execution_count": 118,
   "metadata": {},
   "outputs": [
    {
     "name": "stdout",
     "output_type": "stream",
     "text": [
      "META\n"
     ]
    }
   ],
   "source": [
    "it_companies= ['meta', 'Google', 'Microsoft', 'Galaxy', 'Apple', 'IBM', 'Oracle', 'Amazon', 'Nvidia']\n",
    "print(it_companies[0].upper())\n",
    "\n"
   ]
  },
  {
   "cell_type": "markdown",
   "metadata": {},
   "source": [
    "14.Join the it_companies with a string '#;  '\n"
   ]
  },
  {
   "cell_type": "code",
   "execution_count": 119,
   "metadata": {},
   "outputs": [
    {
     "name": "stdout",
     "output_type": "stream",
     "text": [
      "meta#Google#Microsoft#Galaxy#Apple#IBM#Oracle#Amazon#Nvidia\n"
     ]
    }
   ],
   "source": [
    "it_companies='#'.join(it_companies)\n",
    "print(it_companies)"
   ]
  },
  {
   "cell_type": "markdown",
   "metadata": {},
   "source": [
    "15.Check if a certain company exists in the it_companies list.\n"
   ]
  },
  {
   "cell_type": "code",
   "execution_count": 120,
   "metadata": {},
   "outputs": [
    {
     "name": "stdout",
     "output_type": "stream",
     "text": [
      "True\n"
     ]
    }
   ],
   "source": [
    "print(\"Nvidia\" in it_companies)"
   ]
  },
  {
   "cell_type": "markdown",
   "metadata": {},
   "source": [
    "16.Sort the list using sort() method\n"
   ]
  },
  {
   "cell_type": "code",
   "execution_count": 121,
   "metadata": {},
   "outputs": [
    {
     "ename": "AttributeError",
     "evalue": "'str' object has no attribute 'sort'",
     "output_type": "error",
     "traceback": [
      "\u001b[1;31m---------------------------------------------------------------------------\u001b[0m",
      "\u001b[1;31mAttributeError\u001b[0m                            Traceback (most recent call last)",
      "Cell \u001b[1;32mIn[121], line 1\u001b[0m\n\u001b[1;32m----> 1\u001b[0m \u001b[43mit_companies\u001b[49m\u001b[38;5;241;43m.\u001b[39;49m\u001b[43msort\u001b[49m()\n\u001b[0;32m      2\u001b[0m \u001b[38;5;28mprint\u001b[39m(it_companies)\n",
      "\u001b[1;31mAttributeError\u001b[0m: 'str' object has no attribute 'sort'"
     ]
    }
   ],
   "source": [
    "it_companies.sort()\n",
    "print(it_companies)"
   ]
  },
  {
   "cell_type": "markdown",
   "metadata": {},
   "source": [
    "17.Reverse the list in descending order using reverse() method\n"
   ]
  },
  {
   "cell_type": "code",
   "execution_count": null,
   "metadata": {},
   "outputs": [
    {
     "name": "stdout",
     "output_type": "stream",
     "text": [
      "['Amazon', 'Oracle', 'IBM', 'Apple', 'Microsoft', 'Google', 'meta']\n"
     ]
    }
   ],
   "source": [
    "it_companies=['meta', 'Google', 'Microsoft', 'Apple', 'IBM', 'Oracle', 'Amazon']\n",
    "it_companies.reverse()\n",
    "print(it_companies)"
   ]
  },
  {
   "cell_type": "markdown",
   "metadata": {},
   "source": [
    "18.Slice out the first 3 companies from the list\n"
   ]
  },
  {
   "cell_type": "code",
   "execution_count": null,
   "metadata": {},
   "outputs": [
    {
     "name": "stdout",
     "output_type": "stream",
     "text": [
      "['meta', 'Google', 'Microsoft']\n"
     ]
    }
   ],
   "source": [
    "print(it_companies[0:3])"
   ]
  },
  {
   "cell_type": "markdown",
   "metadata": {},
   "source": [
    "19.Slice out the last 3 companies from the list\n"
   ]
  },
  {
   "cell_type": "code",
   "execution_count": null,
   "metadata": {},
   "outputs": [
    {
     "name": "stdout",
     "output_type": "stream",
     "text": [
      "['IBM', 'Oracle', 'Amazon']\n"
     ]
    }
   ],
   "source": [
    "print(it_companies[-3:])"
   ]
  },
  {
   "cell_type": "markdown",
   "metadata": {},
   "source": [
    "20.Slice out the middle IT company or companies from the list\n"
   ]
  },
  {
   "cell_type": "code",
   "execution_count": null,
   "metadata": {},
   "outputs": [
    {
     "name": "stdout",
     "output_type": "stream",
     "text": [
      "Apple\n"
     ]
    }
   ],
   "source": [
    "print(it_companies[3])"
   ]
  },
  {
   "cell_type": "markdown",
   "metadata": {},
   "source": [
    "21.Remove the first IT company from the list\n"
   ]
  },
  {
   "cell_type": "code",
   "execution_count": null,
   "metadata": {},
   "outputs": [
    {
     "name": "stdout",
     "output_type": "stream",
     "text": [
      "['Google', 'Microsoft', 'Galaxy', 'Apple', 'IBM', 'Oracle', 'Amazon', 'Nvidia']\n"
     ]
    }
   ],
   "source": [
    "del it_companies[0]\n",
    "print(it_companies)"
   ]
  },
  {
   "cell_type": "markdown",
   "metadata": {},
   "source": [
    "22.Remove the middle IT company or companies from the list\n"
   ]
  },
  {
   "cell_type": "code",
   "execution_count": null,
   "metadata": {},
   "outputs": [
    {
     "name": "stdout",
     "output_type": "stream",
     "text": [
      "['Google', 'Microsoft', 'Galaxy', 'IBM', 'Oracle', 'Amazon', 'Nvidia']\n"
     ]
    }
   ],
   "source": [
    "del it_companies[3]\n",
    "print(it_companies)"
   ]
  },
  {
   "cell_type": "markdown",
   "metadata": {},
   "source": [
    "23. Remove the last IT company from the list\n"
   ]
  },
  {
   "cell_type": "code",
   "execution_count": null,
   "metadata": {},
   "outputs": [
    {
     "name": "stdout",
     "output_type": "stream",
     "text": [
      "['Google', 'Microsoft', 'Galaxy', 'IBM', 'Oracle', 'Amazon']\n"
     ]
    }
   ],
   "source": [
    "it_companies.pop()\n",
    "print(it_companies)"
   ]
  },
  {
   "cell_type": "markdown",
   "metadata": {},
   "source": [
    "24.Remove all IT companies from the list\n"
   ]
  },
  {
   "cell_type": "code",
   "execution_count": null,
   "metadata": {},
   "outputs": [
    {
     "name": "stdout",
     "output_type": "stream",
     "text": [
      "[]\n"
     ]
    }
   ],
   "source": [
    "it_companies.clear()\n",
    "print(it_companies)"
   ]
  },
  {
   "cell_type": "markdown",
   "metadata": {},
   "source": [
    "25.Destroy the IT companies list\n"
   ]
  },
  {
   "cell_type": "code",
   "execution_count": null,
   "metadata": {},
   "outputs": [
    {
     "ename": "NameError",
     "evalue": "name 'it_companies' is not defined",
     "output_type": "error",
     "traceback": [
      "\u001b[1;31m---------------------------------------------------------------------------\u001b[0m",
      "\u001b[1;31mNameError\u001b[0m                                 Traceback (most recent call last)",
      "Cell \u001b[1;32mIn[24], line 2\u001b[0m\n\u001b[0;32m      1\u001b[0m \u001b[38;5;28;01mdel\u001b[39;00m it_companies\n\u001b[1;32m----> 2\u001b[0m \u001b[38;5;28mprint\u001b[39m(\u001b[43mit_companies\u001b[49m)\n",
      "\u001b[1;31mNameError\u001b[0m: name 'it_companies' is not defined"
     ]
    }
   ],
   "source": [
    "del it_companies\n",
    "print(it_companies)"
   ]
  },
  {
   "cell_type": "markdown",
   "metadata": {},
   "source": [
    "26.join the following lists:\n",
    "\n",
    "front_end = ['HTML', 'CSS', 'JS', 'React', 'Redux']\n",
    "back_end = ['Node','Express', 'MongoDB']\n",
    "After joining the lists in question 26. Copy the joined list and assign it to a variable full_stack, then insert Python and SQL after Redux."
   ]
  },
  {
   "cell_type": "code",
   "execution_count": null,
   "metadata": {},
   "outputs": [
    {
     "name": "stdout",
     "output_type": "stream",
     "text": [
      "['HTML', 'CSS', 'JS', 'React', 'Redux', 'Node', 'Express', 'MongoDB']\n"
     ]
    }
   ],
   "source": [
    "front_end = ['HTML', 'CSS', 'JS', 'React', 'Redux']\n",
    "back_end = ['Node','Express', 'MongoDB']\n",
    "full_stack=front_end+back_end\n",
    "print(full_stack)"
   ]
  },
  {
   "cell_type": "markdown",
   "metadata": {},
   "source": [
    "LEVEL 2 EXERCISE\n",
    "1. The following is a list of 10 students ages:\n",
    "ages = [19, 22, 19, 24, 20, 25, 26, 24, 25, 24]\n",
    "a)Sort the list and find the min and max age\n",
    "b)Add the min age and the max age again to the list\n",
    "c)Find the median age (one middle item or two middle items divided by two)\n",
    "d)Find the average age (sum of all items divided by their number )\n",
    "e)Find the range of the ages (max minus min)\n",
    "f)Compare the value of (min - average) and (max - average), use abs() method\n"
   ]
  },
  {
   "cell_type": "code",
   "execution_count": null,
   "metadata": {},
   "outputs": [
    {
     "name": "stdout",
     "output_type": "stream",
     "text": [
      "[19, 19, 20, 22, 24, 24, 24, 25, 25, 26]\n",
      "Minimum Age: 19\n",
      "Maximum Age: 26\n",
      "[19, 19, 20, 22, 24, 24, 24, 25, 25, 26, 26, 19]\n",
      "32.5\n",
      "22.8\n",
      "7\n",
      "3.1999999999999993\n",
      "3.8000000000000007\n"
     ]
    }
   ],
   "source": [
    "ages = [19, 22, 19, 24, 20, 25, 26, 24, 25, 24]\n",
    "sorted_ages=sorted(ages)\n",
    "print(sorted_ages)\n",
    "def find_min_max(ages):  \n",
    "    min_age = min(ages)  # Finding the minimum age  \n",
    "    max_age = max(ages)  # Finding the maximum age  \n",
    "    return min_age, max_age  \n",
    "\n",
    "# Calling the function  \n",
    "minimum_age, maximum_age = find_min_max(ages)  \n",
    "\n",
    "# Output the results  \n",
    "print(\"Minimum Age:\", minimum_age)  \n",
    "print(\"Maximum Age:\", maximum_age)\n",
    "sorted_ages.append(maximum_age)\n",
    "sorted_ages.append(minimum_age)\n",
    "print(sorted_ages)\n",
    "#the median age \n",
    "median_age=20+25/2\n",
    "print(median_age)\n",
    "#the average of the list\n",
    "avg_ages=sum(ages)/10\n",
    "print(avg_ages)\n",
    "#range of the ages\n",
    "print(maximum_age-minimum_age)\n",
    "#conparing the values of minimum and maximum \n",
    "abs_min_average = abs(minimum_age - avg_ages)  \n",
    "abs_max_average = abs(maximum_age - avg_ages)\n",
    "print(abs_max_average)\n",
    "print(abs_min_average)\n",
    "\n",
    "\n",
    "\n"
   ]
  },
  {
   "cell_type": "markdown",
   "metadata": {},
   "source": [
    "Find the middle country(ies) in the countries list\n",
    "Divide the countries list into two equal lists if it is even if not one more country for the first half.\n",
    "['China', 'Russia', 'USA', 'Finland', 'Sweden', 'Norway', 'Denmark']. Unpack the first three countries and the rest as scandic countries."
   ]
  },
  {
   "cell_type": "code",
   "execution_count": null,
   "metadata": {},
   "outputs": [
    {
     "name": "stdout",
     "output_type": "stream",
     "text": [
      "Middle element: Lesotho\n"
     ]
    }
   ],
   "source": [
    "countries = ['Afghanistan','Albania','Algeria','Andorra','Angola','Antigua and Barbuda','Argentina','Armenia','Australia','Austria','Azerbaijan','Bahamas','Bahrain',\n",
    "'Bangladesh','Barbados','Belarus','Belgium','Belize','Benin','Bhutan','Bolivia','Bosnia and Herzegovina','Botswana','Brazil','Brunei','Bulgaria',\n",
    "  'Burkina Faso',\n",
    "  'Burundi',\n",
    "  'Cambodia',\n",
    "  'Cameroon',\n",
    "  'Canada',\n",
    "  'Cape Verde',\n",
    "  'Central African Republic',\n",
    "  'Chad',\n",
    "  'Chile',\n",
    "  'China',\n",
    "  'Colombi',\n",
    "  'Comoros',\n",
    "  'Congo (Brazzaville)',\n",
    "  'Congo',\n",
    "  'Costa Rica',\n",
    "  \"Cote d'Ivoire\",\n",
    "  'Croatia',\n",
    "  'Cuba',\n",
    "  'Cyprus',\n",
    "  'Czech Republic',\n",
    "  'Denmark',\n",
    "  'Djibouti',\n",
    "  'Dominica',\n",
    "  'Dominican Republic',\n",
    "  'East Timor (Timor Timur)',\n",
    "  'Ecuador',\n",
    "  'Egypt',\n",
    "  'El Salvador',\n",
    "  'Equatorial Guinea',\n",
    "  'Eritrea',\n",
    "  'Estonia',\n",
    "  'Ethiopia',\n",
    "  'Fiji',\n",
    "  'Finland',\n",
    "  'France',\n",
    "  'Gabon',\n",
    "  'Gambia, The',\n",
    "  'Georgia',\n",
    "  'Germany',\n",
    "  'Ghana',\n",
    "  'Greece',\n",
    "  'Grenada',\n",
    "  'Guatemala',\n",
    "  'Guinea',\n",
    "  'Guinea-Bissau',\n",
    "  'Guyana',\n",
    "  'Haiti',\n",
    "  'Honduras',\n",
    "  'Hungary',\n",
    "  'Iceland',\n",
    "  'India',\n",
    "  'Indonesia',\n",
    "  'Iran',\n",
    "  'Iraq',\n",
    "  'Ireland',\n",
    "  'Israel',\n",
    "  'Italy',\n",
    "  'Jamaica',\n",
    "  'Japan',\n",
    "  'Jordan',\n",
    "  'Kazakhstan',\n",
    "  'Kenya',\n",
    "  'Kiribati',\n",
    "  'Korea, North',\n",
    "  'Korea, South',\n",
    "  'Kuwait',\n",
    "  'Kyrgyzstan',\n",
    "  'Laos',\n",
    "  'Latvia',\n",
    "  'Lebanon',\n",
    "  'Lesotho',\n",
    "  'Liberia',\n",
    "  'Libya',\n",
    "  'Liechtenstein',\n",
    "  'Lithuania',\n",
    "  'Luxembourg',\n",
    "  'Macedonia',\n",
    "  'Madagascar',\n",
    "  'Malawi',\n",
    "  'Malaysia',\n",
    "  'Maldives',\n",
    "  'Mali',\n",
    "  'Malta',\n",
    "  'Marshall Islands',\n",
    "  'Mauritania',\n",
    "  'Mauritius',\n",
    "  'Mexico',\n",
    "  'Micronesia',\n",
    "  'Moldova',\n",
    "  'Monaco',\n",
    "  'Mongolia',\n",
    "  'Morocco',\n",
    "  'Mozambique',\n",
    "  'Myanmar',\n",
    "  'Namibia',\n",
    "  'Nauru',\n",
    "  'Nepal',\n",
    "  'Netherlands',\n",
    "  'New Zealand',\n",
    "  'Nicaragua',\n",
    "  'Niger',\n",
    "  'Nigeria',\n",
    "  'Norway',\n",
    "  'Oman',\n",
    "  'Pakistan',\n",
    "  'Palau',\n",
    "  'Panama',\n",
    "  'Papua New Guinea',\n",
    "  'Paraguay',\n",
    "  'Peru',\n",
    "  'Philippines',\n",
    "  'Poland',\n",
    "  'Portugal',\n",
    "  'Qatar',\n",
    "  'Romania',\n",
    "  'Russia',\n",
    "  'Rwanda',\n",
    "  'Saint Kitts and Nevis',\n",
    "  'Saint Lucia',\n",
    "  'Saint Vincent',\n",
    "  'Samoa',\n",
    "  'San Marino',\n",
    "  'Sao Tome and Principe',\n",
    "  'Saudi Arabia',\n",
    "  'Senegal',\n",
    "  'Serbia and Montenegro',\n",
    "  'Seychelles',\n",
    "  'Sierra Leone',\n",
    "  'Singapore',\n",
    "  'Slovakia',\n",
    "  'Slovenia',\n",
    "  'Solomon Islands',\n",
    "  'Somalia',\n",
    "  'South Africa',\n",
    "  'Spain',\n",
    "  'Sri Lanka',\n",
    "  'Sudan',\n",
    "  'Suriname',\n",
    "  'Swaziland',\n",
    "  'Sweden',\n",
    "  'Switzerland',\n",
    "  'Syria',\n",
    "  'Taiwan',\n",
    "  'Tajikistan',\n",
    "  'Tanzania',\n",
    "  'Thailand',\n",
    "  'Togo',\n",
    "  'Tonga',\n",
    "  'Trinidad and Tobago',\n",
    "  'Tunisia',\n",
    "  'Turkey',\n",
    "  'Turkmenistan',\n",
    "  'Tuvalu',\n",
    "  'Uganda',\n",
    "  'Ukraine',\n",
    "  'United Arab Emirates',\n",
    "  'United Kingdom','United States','Uruguay','Uzbekistan','Vanuatu','Vatican City','Venezuela','Vietnam','Yemen','Zambia','Zimbabwe']\n",
    "\n",
    "# Calculate the middle index  \n",
    "middle_index = len(countries) // 2  \n",
    "\n",
    "# Print the middle element  \n",
    "middle_element = countries[middle_index]  \n",
    "print(\"Middle element:\", middle_element)  "
   ]
  },
  {
   "cell_type": "markdown",
   "metadata": {},
   "source": [
    "2.Divide the countries list into two equal lists if it is even if not one more country for the first half."
   ]
  },
  {
   "cell_type": "code",
   "execution_count": null,
   "metadata": {},
   "outputs": [
    {
     "name": "stdout",
     "output_type": "stream",
     "text": [
      "['Afghanistan', 'Albania', 'Algeria', 'Andorra', 'Angola', 'Antigua and Barbuda', 'Argentina', 'Armenia', 'Australia', 'Austria', 'Azerbaijan', 'Bahamas', 'Bahrain', 'Bangladesh', 'Barbados', 'Belarus', 'Belgium', 'Belize', 'Benin', 'Bhutan', 'Bolivia', 'Bosnia and Herzegovina', 'Botswana', 'Brazil', 'Brunei', 'Bulgaria', 'Burkina Faso', 'Burundi', 'Cambodia', 'Cameroon', 'Canada', 'Cape Verde', 'Central African Republic', 'Chad', 'Chile', 'China', 'Colombi', 'Comoros', 'Congo (Brazzaville)', 'Congo', 'Costa Rica', \"Cote d'Ivoire\", 'Croatia', 'Cuba', 'Cyprus', 'Czech Republic', 'Denmark', 'Djibouti', 'Dominica', 'Dominican Republic', 'East Timor (Timor Timur)', 'Ecuador', 'Egypt', 'El Salvador', 'Equatorial Guinea', 'Eritrea', 'Estonia', 'Ethiopia', 'Fiji', 'Finland', 'France', 'Gabon', 'Gambia, The', 'Georgia', 'Germany', 'Ghana', 'Greece', 'Grenada', 'Guatemala', 'Guinea', 'Guinea-Bissau', 'Guyana', 'Haiti', 'Honduras', 'Hungary', 'Iceland', 'India', 'Indonesia', 'Iran', 'Iraq', 'Ireland', 'Israel', 'Italy', 'Jamaica', 'Japan', 'Jordan', 'Kazakhstan', 'Kenya', 'Kiribati', 'Korea, North', 'Korea, South', 'Kuwait', 'Kyrgyzstan', 'Laos', 'Latvia', 'Lebanon', 'Lesotho', 'Liberia']\n",
      "['Libya', 'Liechtenstein', 'Lithuania', 'Luxembourg', 'Macedonia', 'Madagascar', 'Malawi', 'Malaysia', 'Maldives', 'Mali', 'Malta', 'Marshall Islands', 'Mauritania', 'Mauritius', 'Mexico', 'Micronesia', 'Moldova', 'Monaco', 'Mongolia', 'Morocco', 'Mozambique', 'Myanmar', 'Namibia', 'Nauru', 'Nepal', 'Netherlands', 'New Zealand', 'Nicaragua', 'Niger', 'Nigeria', 'Norway', 'Oman', 'Pakistan', 'Palau', 'Panama', 'Papua New Guinea', 'Paraguay', 'Peru', 'Philippines', 'Poland', 'Portugal', 'Qatar', 'Romania', 'Russia', 'Rwanda', 'Saint Kitts and Nevis', 'Saint Lucia', 'Saint Vincent', 'Samoa', 'San Marino', 'Sao Tome and Principe', 'Saudi Arabia', 'Senegal', 'Serbia and Montenegro', 'Seychelles', 'Sierra Leone', 'Singapore', 'Slovakia', 'Slovenia', 'Solomon Islands', 'Somalia', 'South Africa', 'Spain', 'Sri Lanka', 'Sudan', 'Suriname', 'Swaziland', 'Sweden', 'Switzerland', 'Syria', 'Taiwan', 'Tajikistan', 'Tanzania', 'Thailand', 'Togo', 'Tonga', 'Trinidad and Tobago', 'Tunisia', 'Turkey', 'Turkmenistan', 'Tuvalu', 'Uganda', 'Ukraine', 'United Arab Emirates', 'United Kingdom', 'United States', 'Uruguay', 'Uzbekistan', 'Vanuatu', 'Vatican City', 'Venezuela', 'Vietnam', 'Yemen', 'Zambia', 'Zimbabwe']\n"
     ]
    }
   ],
   "source": [
    "len(countries)\n",
    "firstClassCountries=countries[0:98]\n",
    "secondClassCountries=countries[98:]\n",
    "print(firstClassCountries)\n",
    "print(secondClassCountries)\n",
    "\n",
    "\n"
   ]
  },
  {
   "cell_type": "markdown",
   "metadata": {},
   "source": [
    "3. ['China', 'Russia', 'USA', 'Finland', 'Sweden', 'Norway', 'Denmark']. Unpack the first three countries and the rest as scandic countries."
   ]
  },
  {
   "cell_type": "code",
   "execution_count": null,
   "metadata": {},
   "outputs": [
    {
     "name": "stdout",
     "output_type": "stream",
     "text": [
      "['China', 'Russia', 'USA']\n",
      "['Finland', 'Sweden', 'Norway', 'Denmark']\n"
     ]
    }
   ],
   "source": [
    "NASA=['China', 'Russia', 'USA', 'Finland', 'Sweden', 'Norway', 'Denmark']\n",
    "first_country, second_country, third_country, *scandic_countries = NASA\n",
    "print(first_country)\n",
    "print(second_country)"
   ]
  },
  {
   "cell_type": "code",
   "execution_count": null,
   "metadata": {},
   "outputs": [],
   "source": []
  },
  {
   "cell_type": "markdown",
   "metadata": {},
   "source": [
    "TUPLE EXERCISE LEVEL 1\n",
    "1. Create an empty tuple\n"
   ]
  },
  {
   "cell_type": "code",
   "execution_count": null,
   "metadata": {},
   "outputs": [
    {
     "data": {
      "text/plain": [
       "tuple"
      ]
     },
     "execution_count": 73,
     "metadata": {},
     "output_type": "execute_result"
    }
   ],
   "source": [
    "myBad=()\n",
    "type(myBad)"
   ]
  },
  {
   "cell_type": "markdown",
   "metadata": {},
   "source": [
    "2. Create a tuple containing names of your sisters and your brothers (imaginary siblings are fine)\n"
   ]
  },
  {
   "cell_type": "code",
   "execution_count": null,
   "metadata": {},
   "outputs": [
    {
     "name": "stdout",
     "output_type": "stream",
     "text": [
      "('Habiba', 'Nana', 'Khadijah', 'Maryam', 'Yusra')\n",
      "('Atiku', 'Dantata', 'Dangote', 'Bua', 'Otedola', 'Jim Ovia')\n"
     ]
    }
   ],
   "source": [
    "sisters=('Habiba', 'Nana','Khadijah', 'Maryam','Yusra')\n",
    "brothers=('Atiku', 'Dantata', 'Dangote', 'Bua', 'Otedola', 'Jim Ovia')\n",
    "print(sisters)\n",
    "print(brothers)"
   ]
  },
  {
   "cell_type": "markdown",
   "metadata": {},
   "source": [
    "3. Join brothers and sisters tuples and assign it to siblings\n"
   ]
  },
  {
   "cell_type": "code",
   "execution_count": null,
   "metadata": {},
   "outputs": [
    {
     "name": "stdout",
     "output_type": "stream",
     "text": [
      "('Habiba', 'Nana', 'Khadijah', 'Maryam', 'Yusra', 'Atiku', 'Dantata', 'Dangote', 'Bua', 'Otedola', 'Jim Ovia')\n"
     ]
    }
   ],
   "source": [
    "fine_siblings=sisters + brothers\n",
    "print(fine_siblings)"
   ]
  },
  {
   "cell_type": "markdown",
   "metadata": {},
   "source": [
    "4. How many siblings do you have?\n"
   ]
  },
  {
   "cell_type": "code",
   "execution_count": null,
   "metadata": {},
   "outputs": [
    {
     "name": "stdout",
     "output_type": "stream",
     "text": [
      "11\n"
     ]
    }
   ],
   "source": [
    "print(len(fine_siblings))"
   ]
  },
  {
   "cell_type": "markdown",
   "metadata": {},
   "source": [
    "5. Modify the siblings tuple and add the name of your father and mother and assign it to family_members"
   ]
  },
  {
   "cell_type": "code",
   "execution_count": null,
   "metadata": {},
   "outputs": [
    {
     "name": "stdout",
     "output_type": "stream",
     "text": [
      "('Habiba', 'Nana', 'Khadijah', 'Maryam', 'Yusra', 'Atiku', 'Dantata', 'Dangote', 'Bua', 'Otedola', 'Jim Ovia')\n",
      "('Habiba', 'Nana', 'Khadijah', 'Maryam', 'Yusra', 'Atiku', 'Dantata', 'Dangote', 'Bua', 'Otedola', 'Jim Ovia', 'Mother', 'Father')\n"
     ]
    }
   ],
   "source": [
    "fine_siblings=sisters + brothers\n",
    "print(fine_siblings)\n",
    "fine_sibling=list(fine_siblings)\n",
    "fine_sibling.append('Mother')\n",
    "fine_sibling.append('Father')\n",
    "family_members=tuple(fine_sibling)\n",
    "print(family_members)"
   ]
  },
  {
   "cell_type": "markdown",
   "metadata": {},
   "source": [
    "TUPLE EXERCISE: LEVEL 2\n",
    "1. Unpack siblings and parents from family_members\n"
   ]
  },
  {
   "cell_type": "code",
   "execution_count": null,
   "metadata": {},
   "outputs": [
    {
     "name": "stdout",
     "output_type": "stream",
     "text": [
      "('Habiba', 'Nana', 'Khadijah', 'Maryam', 'Yusra', 'Atiku', 'Dantata', 'Dangote', 'Bua', 'Otedola', 'Jim Ovia')\n",
      "('Mother', 'Father')\n"
     ]
    }
   ],
   "source": [
    "siblings=family_members[0:11]\n",
    "parents=family_members[11:]\n",
    "print(siblings)\n",
    "print(parents)"
   ]
  },
  {
   "cell_type": "markdown",
   "metadata": {},
   "source": [
    "2. Create fruits, vegetables and animal products tuples. Join the three tuples and assign it to a variable called food_stuff_tp.\n"
   ]
  },
  {
   "cell_type": "code",
   "execution_count": null,
   "metadata": {},
   "outputs": [
    {
     "name": "stdout",
     "output_type": "stream",
     "text": [
      "('mango', 'orange', 'Kankana', 'Apple', 'Letus', 'Meats', 'feather')\n"
     ]
    }
   ],
   "source": [
    "fruits=('mango', 'orange', 'Kankana', 'Apple')\n",
    "vegetables=('Letus', )\n",
    "animalProducts=('Meats', 'feather')\n",
    "food_stuff_tp=fruits+vegetables+animalProducts\n",
    "print(food_stuff_tp)"
   ]
  },
  {
   "cell_type": "markdown",
   "metadata": {},
   "source": [
    "3. Change the about food_stuff_tp tuple to a food_stuff_lt list\n"
   ]
  },
  {
   "cell_type": "code",
   "execution_count": null,
   "metadata": {},
   "outputs": [
    {
     "name": "stdout",
     "output_type": "stream",
     "text": [
      "('mango', 'orange', 'Kankana', 'Apple', 'Letus', 'Meats', 'feather')\n"
     ]
    }
   ],
   "source": [
    "food_stuff_lt=food_stuff_tp\n",
    "print(food_stuff_lt)"
   ]
  },
  {
   "cell_type": "markdown",
   "metadata": {},
   "source": [
    "4. Slice out the middle item or items from the food_stuff_tp tuple or food_stuff_lt list.\n"
   ]
  },
  {
   "cell_type": "code",
   "execution_count": null,
   "metadata": {},
   "outputs": [
    {
     "name": "stdout",
     "output_type": "stream",
     "text": [
      "Apple\n"
     ]
    }
   ],
   "source": [
    "print(food_stuff_lt[3])"
   ]
  },
  {
   "cell_type": "markdown",
   "metadata": {},
   "source": [
    "5. Slice out the first three items and the last three items from food_staff_lt list\n"
   ]
  },
  {
   "cell_type": "code",
   "execution_count": null,
   "metadata": {},
   "outputs": [
    {
     "name": "stdout",
     "output_type": "stream",
     "text": [
      "('mango', 'orange', 'Kankana')\n",
      "('Letus', 'Meats', 'feather')\n"
     ]
    }
   ],
   "source": [
    "print(food_stuff_lt[0:3])\n",
    "print(food_stuff_lt[4:])"
   ]
  },
  {
   "cell_type": "markdown",
   "metadata": {},
   "source": [
    "6. Delete the food_staff_tp tuple completely\n"
   ]
  },
  {
   "cell_type": "code",
   "execution_count": null,
   "metadata": {},
   "outputs": [],
   "source": [
    "del food_stuff_tp"
   ]
  },
  {
   "cell_type": "markdown",
   "metadata": {},
   "source": [
    "7. Check if an item exists in tuple"
   ]
  },
  {
   "cell_type": "code",
   "execution_count": null,
   "metadata": {},
   "outputs": [
    {
     "name": "stdout",
     "output_type": "stream",
     "text": [
      "True\n"
     ]
    }
   ],
   "source": [
    "print('mango' in food_stuff_lt)"
   ]
  },
  {
   "cell_type": "markdown",
   "metadata": {},
   "source": [
    "8. Check if 'Estonia' is a nordic country\n"
   ]
  },
  {
   "cell_type": "code",
   "execution_count": null,
   "metadata": {},
   "outputs": [
    {
     "name": "stdout",
     "output_type": "stream",
     "text": [
      "True\n"
     ]
    }
   ],
   "source": [
    "print('Estonia' in countries)"
   ]
  },
  {
   "cell_type": "markdown",
   "metadata": {},
   "source": [
    "9. Check if 'Iceland' is a nordic country"
   ]
  },
  {
   "cell_type": "code",
   "execution_count": null,
   "metadata": {},
   "outputs": [
    {
     "name": "stdout",
     "output_type": "stream",
     "text": [
      "True\n"
     ]
    }
   ],
   "source": [
    "print('Iceland' in countries)"
   ]
  },
  {
   "cell_type": "markdown",
   "metadata": {},
   "source": [
    "SET LEVEL 1 EXERCISE\n",
    "1. Find the length of the set it_companies\n"
   ]
  },
  {
   "cell_type": "code",
   "execution_count": 122,
   "metadata": {},
   "outputs": [
    {
     "name": "stdout",
     "output_type": "stream",
     "text": [
      "7\n"
     ]
    }
   ],
   "source": [
    "it_companies = {'Facebook', 'Google', 'Microsoft', 'Apple', 'IBM', 'Oracle', 'Amazon'}\n",
    "print(len(it_companies))"
   ]
  },
  {
   "cell_type": "markdown",
   "metadata": {},
   "source": [
    "2. Add 'Twitter' to it_companies\n"
   ]
  },
  {
   "cell_type": "code",
   "execution_count": 123,
   "metadata": {},
   "outputs": [],
   "source": [
    "it_companies.add('Twitter')"
   ]
  },
  {
   "cell_type": "markdown",
   "metadata": {},
   "source": [
    "3. nsert multiple IT companies at once to the set it_companies\n"
   ]
  },
  {
   "cell_type": "code",
   "execution_count": 129,
   "metadata": {},
   "outputs": [
    {
     "name": "stdout",
     "output_type": "stream",
     "text": [
      "{'Google', 'Microsoft', 'Amazon', 'IBM', 'Apple', 'Noka', 'Galaxy', 'Facebook', 'Oracle', 'Starlink'}\n"
     ]
    }
   ],
   "source": [
    "it_companies = {'Facebook', 'Google', 'Microsoft', 'Apple', 'IBM', 'Oracle', 'Amazon'}\n",
    "ulna=('Galaxy', 'Noka', 'Starlink')\n",
    "it_companies.update(ulna)\n",
    "print(it_companies)"
   ]
  },
  {
   "cell_type": "markdown",
   "metadata": {},
   "source": [
    "4. Remove one of the companies from the set it_companies\n"
   ]
  },
  {
   "cell_type": "code",
   "execution_count": 130,
   "metadata": {},
   "outputs": [],
   "source": [
    "it_companies.remove('Noka')"
   ]
  },
  {
   "cell_type": "markdown",
   "metadata": {},
   "source": [
    "5.What is the difference between remove and discard"
   ]
  },
  {
   "cell_type": "code",
   "execution_count": 134,
   "metadata": {},
   "outputs": [
    {
     "name": "stdout",
     "output_type": "stream",
     "text": [
      "{'Google', 'Facebook', 'Microsoft', 'Apple', 'IBM', 'Oracle'}\n",
      "{'Google', 'Microsoft', 'Apple', 'IBM', 'Oracle'}\n"
     ]
    }
   ],
   "source": [
    "it_companies = {'Facebook', 'Google', 'Microsoft', 'Apple', 'IBM', 'Oracle', 'Amazon'}\n",
    "it_companies.remove('Amazon')\n",
    "print(it_companies)\n",
    "it_companies.discard('Facebook')\n",
    "print(it_companies)"
   ]
  },
  {
   "cell_type": "markdown",
   "metadata": {},
   "source": [
    "LEVEL 2 EXERCISE: SET\n",
    "Join A and B\n",
    "Find A intersection B\n",
    "Is A subset of B\n",
    "Are A and B disjoint sets\n",
    "Join A with B and B with A\n",
    "What is the symmetric difference between A and B\n",
    "Delete the sets completely "
   ]
  },
  {
   "cell_type": "code",
   "execution_count": null,
   "metadata": {},
   "outputs": [
    {
     "name": "stdout",
     "output_type": "stream",
     "text": [
      "{19, 20, 22, 24, 25, 26, 27, 28}\n",
      "{19, 20, 22, 24, 25, 26}\n",
      "True\n",
      "False\n",
      "{19, 20, 22, 24, 25, 26, 27, 28}\n",
      "set()\n"
     ]
    }
   ],
   "source": [
    "A = {19, 22, 24, 20, 25, 26}\n",
    "B = {19, 22, 20, 25, 26, 24, 28, 27}\n",
    "#Joining Set\n",
    "C=(A).union(B)\n",
    "print(C)\n",
    "#Finding Intersection\n",
    "print((A).intersection(B))\n",
    "#Checking is a Subset\n",
    "print((A).issubset(B))\n",
    "#Checking is a disjoint\n",
    "print((A).isdisjoint(B))\n",
    "#outputing Union A and B\n",
    "print((B).union(A) and (A). union(B))\n",
    "#diffeence between them ss\n",
    "print((A).difference(B))\n",
    "del (C)"
   ]
  },
  {
   "cell_type": "markdown",
   "metadata": {},
   "source": [
    "LEVEL 2 EXERCISE : SET\n",
    "1. Convert the ages to a set and compare the length of the list and the set, which one is bigger?\n"
   ]
  },
  {
   "cell_type": "code",
   "execution_count": 143,
   "metadata": {},
   "outputs": [
    {
     "name": "stdout",
     "output_type": "stream",
     "text": [
      "False\n",
      "6\n",
      "8\n"
     ]
    }
   ],
   "source": [
    "A = {19, 22, 24, 20, 25, 26}\n",
    "age = [22, 19, 24, 25,26,24,25,24]\n",
    "print(len(A)==len(age))\n",
    "print(len(A))\n",
    "print(len(age))"
   ]
  },
  {
   "cell_type": "markdown",
   "metadata": {},
   "source": [
    "2. Explain the difference between the following data types: string, list, tuple and set\n"
   ]
  },
  {
   "cell_type": "markdown",
   "metadata": {},
   "source": [
    "I)String: a data type for sequence of character\n",
    "II)list: is a data structure for storing different data types and is mutable , it uses []. it allows repetition. it is inedexed. \n",
    "III)tupe: this is a immutable data structure that can contain different data types, it uses (). it also allows repetition, since it is indexed .\n",
    "IV)set: is a mutable data structure that is unindex and that does not allows repetition "
   ]
  },
  {
   "cell_type": "markdown",
   "metadata": {},
   "source": [
    "3.I am a teacher and I love to inspire and teach people. How many unique words have been used in the sentence? Use the split methods and set to get the unique words."
   ]
  },
  {
   "cell_type": "code",
   "execution_count": 159,
   "metadata": {},
   "outputs": [
    {
     "name": "stdout",
     "output_type": "stream",
     "text": [
      "['I', 'am', 'a', 'teacher', 'and', 'I', 'love', 'to', 'inspire', 'and', 'teach', 'people']\n",
      "['am', 'a', 'teacher', 'love', 'to', 'inspire', 'teach', 'people']\n"
     ]
    }
   ],
   "source": [
    "sentence='I am a teacher and I love to inspire and teach people'\n",
    "split_sentence= sentence.split()\n",
    "print(split_sentence)\n",
    "unique=[item for item in split_sentence if split_sentence.count(item) ==1]\n",
    "print(unique)"
   ]
  }
 ],
 "metadata": {
  "kernelspec": {
   "display_name": "Python 3",
   "language": "python",
   "name": "python3"
  },
  "language_info": {
   "codemirror_mode": {
    "name": "ipython",
    "version": 3
   },
   "file_extension": ".py",
   "mimetype": "text/x-python",
   "name": "python",
   "nbconvert_exporter": "python",
   "pygments_lexer": "ipython3",
   "version": "3.13.0"
  }
 },
 "nbformat": 4,
 "nbformat_minor": 2
}
