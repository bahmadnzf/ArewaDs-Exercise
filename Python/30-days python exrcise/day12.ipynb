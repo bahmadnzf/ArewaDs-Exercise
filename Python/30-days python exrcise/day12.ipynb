{
 "cells": [
  {
   "cell_type": "markdown",
   "metadata": {},
   "source": [
    "Exception Handling/ Packing Unpacking Exercises:\n",
    "1. names = ['Finland', 'Sweden', 'Norway','Denmark','Iceland', 'Estonia','Russia']. Unpack the first five countries and store them in a variable nordic_countries, store Estonia and Russia in es, and ru respectively."
   ]
  },
  {
   "cell_type": "code",
   "execution_count": 2,
   "metadata": {},
   "outputs": [
    {
     "name": "stdout",
     "output_type": "stream",
     "text": [
      "Nordic Countries: ['Finland', 'Sweden', 'Norway', 'Denmark', 'Iceland']\n",
      "Estonia: Estonia\n",
      "Russia: Russia\n"
     ]
    }
   ],
   "source": [
    "def unpack_countries(names):  \n",
    "    # Unpacking the first five countries into nordic_countries  \n",
    "    nordic_countries = names[:5]  \n",
    "\n",
    "    # Storing Estonia and Russia in separate variables  \n",
    "    es, ru = names[5], names[6]  \n",
    "\n",
    "    return nordic_countries, es, ru  \n",
    "\n",
    "# List of country names  \n",
    "names = ['Finland', 'Sweden', 'Norway', 'Denmark', 'Iceland', 'Estonia', 'Russia']  \n",
    "\n",
    "# Calling the function  \n",
    "nordic_countries, estonia, russia = unpack_countries(names)  \n",
    "\n",
    "# Display results  \n",
    "print(\"Nordic Countries:\", nordic_countries)  \n",
    "print(\"Estonia:\", estonia)  \n",
    "print(\"Russia:\", russia)\n"
   ]
  },
  {
   "cell_type": "code",
   "execution_count": null,
   "metadata": {},
   "outputs": [],
   "source": []
  }
 ],
 "metadata": {
  "kernelspec": {
   "display_name": "Python 3",
   "language": "python",
   "name": "python3"
  },
  "language_info": {
   "codemirror_mode": {
    "name": "ipython",
    "version": 3
   },
   "file_extension": ".py",
   "mimetype": "text/x-python",
   "name": "python",
   "nbconvert_exporter": "python",
   "pygments_lexer": "ipython3",
   "version": "3.13.0"
  }
 },
 "nbformat": 4,
 "nbformat_minor": 2
}
